{
 "cells": [
  {
   "cell_type": "markdown",
   "metadata": {},
   "source": [
    "# Filter contents"
   ]
  },
  {
   "cell_type": "code",
   "execution_count": 20,
   "metadata": {},
   "outputs": [],
   "source": [
    "import json\n",
    "import pandas as pd\n",
    "from dateutil import parser\n",
    "\n",
    "KEYWORD = ['BTC', 'ETH', 'Bitcoin', 'Ether', 'Cryptocurrency', 'Digital currency', 'DeFi']\n",
    "\n",
    "file_path = './tweeter_data/origin/VitalikButerin.json'\n",
    "\n",
    "with open(file_path, 'r', encoding='utf-8') as file:\n",
    "    tweets_collection = json.load(file)\n",
    "\n",
    "format_str = \"%Y-%m-%d\"\n",
    "\n",
    "filter_tweets = []\n",
    "\n",
    "for index, tweet in enumerate(tweets_collection):\n",
    "    date = parser.parse(tweet[\"time\"]).strftime(format_str)\n",
    "    tweet_detail = {\n",
    "        \"date\":date,\n",
    "    }\n",
    "    content = tweet.get(\"tweet_text\", None)\n",
    "    repost = tweet.get(\"repost_text\", None)\n",
    "    for key in KEYWORD:\n",
    "        if content is not None:\n",
    "            if key in content:\n",
    "                tweet_detail['tweet_text'] = content\n",
    "                if repost is not None:\n",
    "                    tweet_detail['repost_text'] = repost\n",
    "                filter_tweets.append(tweet_detail)\n",
    "                break\n",
    "        if repost is not None:\n",
    "            if key in repost:\n",
    "                if content is not None:\n",
    "                    tweet_detail['tweet_text'] = content\n",
    "                tweet_detail['repost_text'] = repost\n",
    "                filter_tweets.append(tweet_detail)\n",
    "                break\n",
    "\n",
    "df = pd.DataFrame(filter_tweets)\n",
    "df.to_json(\"./tweeter_data/filter/VitalikButerin.json\", orient=\"records\", indent=4)"
   ]
  }
 ],
 "metadata": {
  "kernelspec": {
   "display_name": "Python 3",
   "language": "python",
   "name": "python3"
  },
  "language_info": {
   "codemirror_mode": {
    "name": "ipython",
    "version": 3
   },
   "file_extension": ".py",
   "mimetype": "text/x-python",
   "name": "python",
   "nbconvert_exporter": "python",
   "pygments_lexer": "ipython3",
   "version": "3.11.9"
  }
 },
 "nbformat": 4,
 "nbformat_minor": 2
}

{
 "cells": [
  {
   "cell_type": "markdown",
   "metadata": {},
   "source": [
    "# Prepare the model"
   ]
  },
  {
   "cell_type": "code",
   "execution_count": 10,
   "metadata": {},
   "outputs": [],
   "source": [
    "from transformers import pipeline\n",
    "sentiment_model = pipeline(task=\"text-classification\", model=\"./roberta-base_twitter\")"
   ]
  },
  {
   "cell_type": "code",
   "execution_count": 24,
   "metadata": {},
   "outputs": [
    {
     "data": {
      "text/plain": [
       "[{'label': 'LABEL_1', 'score': 0.5284806489944458}]"
      ]
     },
     "execution_count": 24,
     "metadata": {},
     "output_type": "execute_result"
    }
   ],
   "source": [
    "sentiment_model(\"I love this movie\")"
   ]
  },
  {
   "cell_type": "code",
   "execution_count": 25,
   "metadata": {},
   "outputs": [],
   "source": [
    "def analysis_text(text):\n",
    "    return sentiment_model(text)"
   ]
  },
  {
   "cell_type": "markdown",
   "metadata": {},
   "source": [
    "# Prepare the document"
   ]
  },
  {
   "cell_type": "code",
   "execution_count": 61,
   "metadata": {},
   "outputs": [],
   "source": [
    "import re\n",
    "\n",
    "delimiters = \"[， 。]\"\n",
    "\n",
    "def split_text_by_length(text, max_length=500):\n",
    "    words = re.split(delimiters, text)\n",
    "    split_texts = []\n",
    "    current_part = []\n",
    "    current_length = 0\n",
    "\n",
    "    for word in words:\n",
    "        if current_length + len(word) + 1 <= max_length:\n",
    "            current_part.append(word)\n",
    "            current_length += len(word) + 1\n",
    "        else:\n",
    "            split_texts.append(' '.join(current_part))\n",
    "            current_part = [word]\n",
    "            current_length = len(word) + 1\n",
    "\n",
    "    if current_part:\n",
    "        split_texts.append(' '.join(current_part))\n",
    "\n",
    "    return split_texts"
   ]
  },
  {
   "cell_type": "code",
   "execution_count": 71,
   "metadata": {},
   "outputs": [
    {
     "name": "stdout",
     "output_type": "stream",
     "text": [
      "All news data count : 4529\n",
      "process data : 50\n",
      "process data : 100\n",
      "process data : 150\n",
      "process data : 200\n",
      "process data : 250\n",
      "process data : 300\n",
      "process data : 350\n",
      "process data : 400\n",
      "process data : 450\n",
      "process data : 500\n",
      "process data : 550\n",
      "process data : 600\n",
      "process data : 650\n",
      "process data : 700\n",
      "process data : 750\n",
      "process data : 800\n",
      "process data : 850\n",
      "process data : 900\n",
      "process data : 950\n",
      "process data : 1000\n",
      "process data : 1050\n",
      "process data : 1100\n",
      "process data : 1150\n",
      "process data : 1200\n",
      "process data : 1250\n",
      "process data : 1300\n",
      "process data : 1350\n",
      "process data : 1400\n",
      "process data : 1450\n",
      "process data : 1500\n",
      "process data : 1550\n",
      "process data : 1600\n",
      "process data : 1650\n",
      "process data : 1700\n",
      "process data : 1750\n",
      "process data : 1800\n",
      "process data : 1850\n",
      "process data : 1900\n",
      "process data : 1950\n",
      "process data : 2000\n",
      "process data : 2050\n",
      "process data : 2100\n",
      "process data : 2150\n",
      "process data : 2200\n",
      "process data : 2250\n",
      "process data : 2300\n",
      "process data : 2350\n",
      "process data : 2400\n",
      "process data : 2450\n",
      "process data : 2500\n",
      "process data : 2550\n",
      "process data : 2600\n",
      "process data : 2650\n",
      "process data : 2700\n",
      "process data : 2750\n",
      "process data : 2800\n",
      "process data : 2850\n",
      "process data : 2900\n",
      "process data : 2950\n",
      "process data : 3000\n",
      "process data : 3050\n",
      "process data : 3100\n",
      "process data : 3150\n",
      "process data : 3200\n",
      "process data : 3250\n",
      "process data : 3300\n",
      "process data : 3350\n",
      "process data : 3400\n",
      "process data : 3450\n",
      "process data : 3500\n",
      "process data : 3550\n",
      "process data : 3600\n",
      "process data : 3650\n",
      "process data : 3700\n",
      "process data : 3750\n",
      "process data : 3800\n",
      "process data : 3850\n",
      "process data : 3900\n",
      "process data : 3950\n",
      "process data : 4000\n",
      "process data : 4050\n",
      "process data : 4100\n",
      "process data : 4150\n",
      "process data : 4200\n",
      "process data : 4250\n",
      "process data : 4300\n",
      "process data : 4350\n",
      "process data : 4400\n",
      "process data : 4450\n",
      "process data : 4500\n"
     ]
    }
   ],
   "source": [
    "import json\n",
    "import pandas as pd\n",
    "from dateutil import parser\n",
    "\n",
    "file_path = './news_data/cd_large.json'\n",
    "\n",
    "with open(file_path, 'r', encoding='utf-8') as file:\n",
    "    news_collection = json.load(file)\n",
    "\n",
    "format_str = \"%Y-%m-%d\"\n",
    "news_record = []\n",
    "\n",
    "print(f\"All news data count : {len(news_collection)}\")\n",
    "\n",
    "for index, news in enumerate(news_collection):\n",
    "    date = parser.parse(news[\"time\"]).strftime(format_str)\n",
    "    news_detail = {\n",
    "        \"date\":date,\n",
    "    }\n",
    "    content = news[\"content\"]\n",
    "    res = analysis_text(split_text_by_length(content))\n",
    "\n",
    "    # 這邊直接判斷哪種情緒出現在文章比較多\n",
    "    bullish = 0\n",
    "    bearish = 0\n",
    "    for data in res:\n",
    "        label = data[\"label\"]\n",
    "        if label == \"LABEL_1\":\n",
    "            bullish += 1\n",
    "        elif label == \"LABEL_0\":\n",
    "            bearish += 1\n",
    "    if bullish > bearish:\n",
    "        news_detail[\"label\"]=\"bullish\"\n",
    "    elif bearish > bullish:\n",
    "        news_detail[\"label\"]=\"bearish\"\n",
    "    else:\n",
    "        news_detail[\"label\"]=\"neutral\"\n",
    "    if (index+1)%50==0:\n",
    "        print(f\"process data : {index+1}\")\n",
    "    news_record.append(news_detail)\n",
    "\n",
    "df = pd.DataFrame(news_record)\n",
    "df.to_json(\"cd_large.json\", orient=\"records\")\n",
    "\n",
    "        \n"
   ]
  }
 ],
 "metadata": {
  "kernelspec": {
   "display_name": "Python 3",
   "language": "python",
   "name": "python3"
  },
  "language_info": {
   "codemirror_mode": {
    "name": "ipython",
    "version": 3
   },
   "file_extension": ".py",
   "mimetype": "text/x-python",
   "name": "python",
   "nbconvert_exporter": "python",
   "pygments_lexer": "ipython3",
   "version": "3.11.9"
  }
 },
 "nbformat": 4,
 "nbformat_minor": 2
}

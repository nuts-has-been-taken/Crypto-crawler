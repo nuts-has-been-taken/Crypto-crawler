{
 "cells": [
  {
   "cell_type": "markdown",
   "metadata": {},
   "source": [
    "# Prepare the model"
   ]
  },
  {
   "cell_type": "code",
   "execution_count": 1,
   "metadata": {},
   "outputs": [
    {
     "name": "stdout",
     "output_type": "stream",
     "text": [
      "WARNING:tensorflow:From C:\\Users\\samho\\AppData\\Local\\Packages\\PythonSoftwareFoundation.Python.3.11_qbz5n2kfra8p0\\LocalCache\\local-packages\\Python311\\site-packages\\keras\\src\\losses.py:2976: The name tf.losses.sparse_softmax_cross_entropy is deprecated. Please use tf.compat.v1.losses.sparse_softmax_cross_entropy instead.\n",
      "\n"
     ]
    }
   ],
   "source": [
    "from transformers import pipeline\n",
    "tweet_model = pipeline(task=\"text-classification\", model=\"./roberta-base_twitter\")\n",
    "imdb_model = pipeline(task=\"text-classification\", model=\"./roberta-base_imdb\")"
   ]
  },
  {
   "cell_type": "code",
   "execution_count": 80,
   "metadata": {},
   "outputs": [
    {
     "data": {
      "text/plain": [
       "[{'label': 'LABEL_1', 'score': 0.9983030557632446}]"
      ]
     },
     "execution_count": 80,
     "metadata": {},
     "output_type": "execute_result"
    }
   ],
   "source": [
    "imdb_model(\"I love this movie\")"
   ]
  },
  {
   "cell_type": "code",
   "execution_count": 2,
   "metadata": {},
   "outputs": [],
   "source": [
    "def analysis_text(text, model=\"tweet\"):\n",
    "    if model == \"tweet\":\n",
    "        return tweet_model(text)\n",
    "    elif model == \"imdb\":\n",
    "        return imdb_model(text)"
   ]
  },
  {
   "cell_type": "markdown",
   "metadata": {},
   "source": [
    "# Prepare news document"
   ]
  },
  {
   "cell_type": "code",
   "execution_count": 9,
   "metadata": {},
   "outputs": [],
   "source": [
    "import re\n",
    "\n",
    "delimiters = \"[， 。]\"\n",
    "\n",
    "def split_text_by_length(text, max_length=210):\n",
    "    words = re.split(delimiters, text)\n",
    "    split_texts = []\n",
    "    current_part = []\n",
    "    current_length = 0\n",
    "\n",
    "    for word in words:\n",
    "        if current_length + len(word) + 1 <= max_length:\n",
    "            current_part.append(word)\n",
    "            current_length += len(word) + 1\n",
    "        else:\n",
    "            split_texts.append(' '.join(current_part))\n",
    "            current_part = [word]\n",
    "            current_length = len(word) + 1\n",
    "\n",
    "    if current_part:\n",
    "        split_texts.append(' '.join(current_part))\n",
    "\n",
    "    return split_texts"
   ]
  },
  {
   "cell_type": "code",
   "execution_count": 11,
   "metadata": {},
   "outputs": [
    {
     "name": "stdout",
     "output_type": "stream",
     "text": [
      "All news data count : 720\n",
      "process data : 50\n",
      "process data : 100\n",
      "process data : 150\n",
      "process data : 200\n",
      "process data : 250\n",
      "process data : 300\n",
      "process data : 350\n",
      "process data : 400\n",
      "process data : 450\n",
      "process data : 500\n",
      "process data : 550\n",
      "process data : 600\n",
      "process data : 650\n",
      "process data : 700\n"
     ]
    }
   ],
   "source": [
    "import json\n",
    "import pandas as pd\n",
    "from dateutil import parser\n",
    "\n",
    "file_path = './news_data/origin/pc.json'\n",
    "\n",
    "with open(file_path, 'r', encoding='utf-8') as file:\n",
    "    news_collection = json.load(file)\n",
    "\n",
    "format_str = \"%Y-%m-%d\"\n",
    "tweets_record = []\n",
    "\n",
    "print(f\"All news data count : {len(news_collection)}\")\n",
    "\n",
    "for index, tweet in enumerate(news_collection):\n",
    "    date = parser.parse(tweet[\"time\"]).strftime(format_str)\n",
    "    news_detail = {\n",
    "        \"date\":date,\n",
    "    }\n",
    "    content = tweet[\"content\"]\n",
    "    res = analysis_text(split_text_by_length(content))\n",
    "\n",
    "    # 這邊直接判斷哪種情緒出現在文章比較多\n",
    "    bullish = 0\n",
    "    bearish = 0\n",
    "    for data in res:\n",
    "        label = data[\"label\"]\n",
    "        if label == \"LABEL_1\":\n",
    "            bullish += 1\n",
    "        elif label == \"LABEL_0\":\n",
    "            bearish += 1\n",
    "    if bullish > bearish:\n",
    "        news_detail[\"label\"]=\"bullish\"\n",
    "    elif bearish > bullish:\n",
    "        news_detail[\"label\"]=\"bearish\"\n",
    "    else:\n",
    "        news_detail[\"label\"]=\"neutral\"\n",
    "    if (index+1)%50==0:\n",
    "        print(f\"process data : {index+1}\")\n",
    "    tweets_record.append(news_detail)\n",
    "\n",
    "df = pd.DataFrame(tweets_record)\n",
    "df.to_json(\"./news_data/news_with_label/pc.json\", orient=\"records\", indent=4)\n"
   ]
  },
  {
   "cell_type": "markdown",
   "metadata": {},
   "source": [
    "# Prepare twitter document"
   ]
  },
  {
   "cell_type": "code",
   "execution_count": 86,
   "metadata": {},
   "outputs": [
    {
     "name": "stdout",
     "output_type": "stream",
     "text": [
      "All tweet data count : 73\n",
      "process data : 50\n"
     ]
    }
   ],
   "source": [
    "import json\n",
    "import pandas as pd\n",
    "from dateutil import parser\n",
    "\n",
    "file_path = './tweeter_data/filter/VitalikButerin.json'\n",
    "\n",
    "with open(file_path, 'r', encoding='utf-8') as file:\n",
    "    news_collection = json.load(file)\n",
    "\n",
    "format_str = \"%Y-%m-%d\"\n",
    "tweets_record = []\n",
    "\n",
    "print(f\"All tweet data count : {len(news_collection)}\")\n",
    "\n",
    "for index, tweet in enumerate(news_collection):\n",
    "    date = parser.parse(tweet[\"date\"]).strftime(format_str)\n",
    "    news_detail = {\n",
    "        \"date\":date,\n",
    "    }\n",
    "    tweet_text = tweet.get(\"tweet_text\", \"\")\n",
    "    repost_text = tweet.get(\"repost_text\", \"\")\n",
    "    content = \"\"\n",
    "    if tweet_text is not None:\n",
    "        content += f\"{tweet_text}\\n\"\n",
    "    if repost_text is not None:\n",
    "        content += f\"{repost_text}\\n\"\n",
    "    res = analysis_text(text=content, model=\"imdb\")\n",
    "\n",
    "    bullish = 0\n",
    "    bearish = 0\n",
    "    for data in res:\n",
    "        label = data[\"label\"]\n",
    "        if label == \"LABEL_1\":\n",
    "            bullish += 1\n",
    "        elif label == \"LABEL_0\":\n",
    "            bearish += 1\n",
    "    if bullish > bearish:\n",
    "        news_detail[\"label\"]=\"bullish\"\n",
    "    elif bearish > bullish:\n",
    "        news_detail[\"label\"]=\"bearish\"\n",
    "    else:\n",
    "        news_detail[\"label\"]=\"neutral\"\n",
    "    if (index+1)%50==0:\n",
    "        print(f\"process data : {index+1}\")\n",
    "    tweets_record.append(news_detail)\n",
    "\n",
    "df = pd.DataFrame(tweets_record)\n",
    "df.to_json(\"./tweeter_data/tweeter_with_label/VitalikButerin.json\", orient=\"records\", indent=4)"
   ]
  }
 ],
 "metadata": {
  "kernelspec": {
   "display_name": "Python 3",
   "language": "python",
   "name": "python3"
  },
  "language_info": {
   "codemirror_mode": {
    "name": "ipython",
    "version": 3
   },
   "file_extension": ".py",
   "mimetype": "text/x-python",
   "name": "python",
   "nbconvert_exporter": "python",
   "pygments_lexer": "ipython3",
   "version": "3.11.9"
  }
 },
 "nbformat": 4,
 "nbformat_minor": 2
}
